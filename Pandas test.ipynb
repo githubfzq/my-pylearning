{
 "cells": [
  {
   "cell_type": "code",
   "execution_count": null,
   "metadata": {},
   "outputs": [],
   "source": [
    "import pandas as pd"
   ]
  },
  {
   "cell_type": "markdown",
   "metadata": {},
   "source": [
    "Two type of data structure: Series, DataFrame"
   ]
  },
  {
   "cell_type": "markdown",
   "metadata": {},
   "source": [
    "# Series"
   ]
  },
  {
   "cell_type": "code",
   "execution_count": 4,
   "metadata": {},
   "outputs": [
    {
     "name": "stdout",
     "output_type": "stream",
     "text": [
      "series1:\n",
      "0    1\n",
      "1    2\n",
      "2    3\n",
      "3    4\n",
      "dtype: int64\n",
      "\n"
     ]
    }
   ],
   "source": [
    "series1=pd.Series([1,2,3,4])\n",
    "print(\"series1:\\n{}\\n\".format(series1))"
   ]
  },
  {
   "cell_type": "code",
   "execution_count": 5,
   "metadata": {},
   "outputs": [
    {
     "name": "stdout",
     "output_type": "stream",
     "text": [
      "series1.values:[1 2 3 4]\n",
      "\n",
      "series1.index:RangeIndex(start=0, stop=4, step=1)\n",
      "\n"
     ]
    }
   ],
   "source": [
    "print(\"series1.values:{}\\n\".format(series1.values))\n",
    "print(\"series1.index:{}\\n\".format(series1.index))"
   ]
  },
  {
   "cell_type": "code",
   "execution_count": 6,
   "metadata": {},
   "outputs": [
    {
     "name": "stdout",
     "output_type": "stream",
     "text": [
      "series2:\n",
      "C    1\n",
      "D    2\n",
      "E    3\n",
      "F    4\n",
      "G    5\n",
      "A    6\n",
      "B    7\n",
      "dtype: int64\n",
      "\n",
      "E is 3\n",
      "\n"
     ]
    }
   ],
   "source": [
    "series2=pd.Series([1,2,3,4,5,6,7],\n",
    "                 index=[\"C\",\"D\",\"E\",\"F\",\"G\",\"A\",\"B\"])\n",
    "print(\"series2:\\n{}\\n\".format(series2))\n",
    "print(\"E is {}\\n\".format(series2[\"E\"]))"
   ]
  },
  {
   "cell_type": "markdown",
   "metadata": {},
   "source": [
    "# DataFrame"
   ]
  },
  {
   "cell_type": "code",
   "execution_count": 7,
   "metadata": {},
   "outputs": [],
   "source": [
    "import numpy as np"
   ]
  },
  {
   "cell_type": "code",
   "execution_count": 8,
   "metadata": {},
   "outputs": [
    {
     "name": "stdout",
     "output_type": "stream",
     "text": [
      "df1:\n",
      "    0   1   2   3\n",
      "0   0   1   2   3\n",
      "1   4   5   6   7\n",
      "2   8   9  10  11\n",
      "3  12  13  14  15\n",
      "\n"
     ]
    }
   ],
   "source": [
    "df1=pd.DataFrame(np.arange(16).reshape(4,4))\n",
    "print(\"df1:\\n{}\\n\".format(df1))"
   ]
  },
  {
   "cell_type": "code",
   "execution_count": 9,
   "metadata": {},
   "outputs": [
    {
     "name": "stdout",
     "output_type": "stream",
     "text": [
      "df2:\n",
      "   column1  column2  column3  column4\n",
      "a        0        1        2        3\n",
      "b        4        5        6        7\n",
      "c        8        9       10       11\n",
      "d       12       13       14       15\n",
      "\n"
     ]
    }
   ],
   "source": [
    "df2=pd.DataFrame(np.arange(16).reshape(4,4),columns=[\"column1\",\"column2\",\"column3\",\"column4\"],\n",
    "                index=[\"a\",\"b\",\"c\",\"d\"])\n",
    "print(\"df2:\\n{}\\n\".format(df2))"
   ]
  },
  {
   "cell_type": "code",
   "execution_count": 10,
   "metadata": {},
   "outputs": [
    {
     "name": "stdout",
     "output_type": "stream",
     "text": [
      "df3:\n",
      "  note weekday\n",
      "0    C     Mon\n",
      "1    D     Tue\n",
      "2    E     Wed\n",
      "3    F     Thu\n",
      "4    G     Fri\n",
      "5    A     Sat\n",
      "6    B     Sun\n",
      "\n"
     ]
    }
   ],
   "source": [
    "df3=pd.DataFrame({\"note\":[\"C\",\"D\",\"E\",\"F\",\"G\",\"A\",\"B\"],\n",
    "                 \"weekday\":[\"Mon\",\"Tue\",\"Wed\",\"Thu\",\"Fri\",\"Sat\",\"Sun\"]})\n",
    "print(\"df3:\\n{}\\n\".format(df3))"
   ]
  },
  {
   "cell_type": "code",
   "execution_count": 11,
   "metadata": {},
   "outputs": [],
   "source": [
    "noteSeries=pd.Series([\"C\",\"D\",\"E\",\"F\",\"G\",\"A\",\"B\"],\n",
    "                    index=[1,2,3,4,5,6,7])\n",
    "weekdaySeries=pd.Series([\"Mon\",\"Tue\",\"Wed\",\"Thu\",\"Fri\",\"Sat\",\"Sun\"],\n",
    "                       index=[1,2,3,4,5,6,7])"
   ]
  },
  {
   "cell_type": "code",
   "execution_count": 12,
   "metadata": {},
   "outputs": [
    {
     "name": "stdout",
     "output_type": "stream",
     "text": [
      "1    C\n",
      "2    D\n",
      "3    E\n",
      "4    F\n",
      "5    G\n",
      "6    A\n",
      "7    B\n",
      "dtype: object\n",
      "1    Mon\n",
      "2    Tue\n",
      "3    Wed\n",
      "4    Thu\n",
      "5    Fri\n",
      "6    Sat\n",
      "7    Sun\n",
      "dtype: object\n"
     ]
    }
   ],
   "source": [
    "print(noteSeries)\n",
    "print(weekdaySeries)"
   ]
  },
  {
   "cell_type": "code",
   "execution_count": 13,
   "metadata": {},
   "outputs": [
    {
     "name": "stdout",
     "output_type": "stream",
     "text": [
      "     1    2    3    4    5    6    7\n",
      "0    C    D    E    F    G    A    B\n",
      "1  Mon  Tue  Wed  Thu  Fri  Sat  Sun\n"
     ]
    }
   ],
   "source": [
    "df4=pd.DataFrame([noteSeries,weekdaySeries])\n",
    "print(df4)"
   ]
  },
  {
   "cell_type": "code",
   "execution_count": 14,
   "metadata": {},
   "outputs": [
    {
     "name": "stdout",
     "output_type": "stream",
     "text": [
      "  note weekday  No.\n",
      "0    C     Mon    1\n",
      "1    D     Tue    2\n",
      "2    E     Wed    3\n",
      "3    F     Thu    4\n",
      "4    G     Fri    5\n",
      "5    A     Sat    6\n",
      "6    B     Sun    7\n"
     ]
    }
   ],
   "source": [
    "df3[\"No.\"]=pd.Series([1,2,3,4,5,6,7])\n",
    "print(df3)"
   ]
  },
  {
   "cell_type": "code",
   "execution_count": 15,
   "metadata": {
    "scrolled": true
   },
   "outputs": [
    {
     "name": "stdout",
     "output_type": "stream",
     "text": [
      "  note  No.\n",
      "0    C    1\n",
      "1    D    2\n",
      "2    E    3\n",
      "3    F    4\n",
      "4    G    5\n",
      "5    A    6\n",
      "6    B    7\n"
     ]
    }
   ],
   "source": [
    "del df3[\"weekday\"]\n",
    "print(df3)"
   ]
  },
  {
   "cell_type": "code",
   "execution_count": null,
   "metadata": {},
   "outputs": [],
   "source": []
  }
 ],
 "metadata": {
  "kernelspec": {
   "display_name": "Python 3",
   "language": "python",
   "name": "python3"
  },
  "language_info": {
   "codemirror_mode": {
    "name": "ipython",
    "version": 3
   },
   "file_extension": ".py",
   "mimetype": "text/x-python",
   "name": "python",
   "nbconvert_exporter": "python",
   "pygments_lexer": "ipython3",
   "version": "3.6.7"
  }
 },
 "nbformat": 4,
 "nbformat_minor": 2
}
