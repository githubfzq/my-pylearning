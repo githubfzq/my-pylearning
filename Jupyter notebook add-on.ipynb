{
 "cells": [
  {
   "cell_type": "markdown",
   "metadata": {},
   "source": [
    "# Jupyter themes"
   ]
  },
  {
   "cell_type": "code",
   "execution_count": 2,
   "metadata": {
    "scrolled": true
   },
   "outputs": [
    {
     "name": "stdout",
     "output_type": "stream",
     "text": [
      "Collecting jupyterthemes\n",
      "  Using cached https://pypi.tuna.tsinghua.edu.cn/packages/8a/08/9dee6dfd7f2aad6c30282d55c8f495b4dc1e4747b4e2bdbeb80572ddf312/jupyterthemes-0.20.0-py2.py3-none-any.whl\n",
      "Requirement already satisfied: lesscpy>=0.11.2 in d:\\anaconda3\\lib\\site-packages (from jupyterthemes)\n",
      "Requirement already satisfied: matplotlib>=1.4.3 in d:\\anaconda3\\lib\\site-packages (from jupyterthemes)\n",
      "Collecting notebook>=5.6.0 (from jupyterthemes)\n",
      "  Using cached https://pypi.tuna.tsinghua.edu.cn/packages/f8/a6/dbdf0954d073ab2cf5421cad20334d1e4c780da37205c04522c045298f67/notebook-5.7.4-py2.py3-none-any.whl\n",
      "Requirement already satisfied: ipython>=5.4.1 in d:\\anaconda3\\lib\\site-packages (from jupyterthemes)\n",
      "Requirement already satisfied: jupyter-core in d:\\anaconda3\\lib\\site-packages (from jupyterthemes)\n",
      "Requirement already satisfied: ply in d:\\anaconda3\\lib\\site-packages (from lesscpy>=0.11.2->jupyterthemes)\n",
      "Requirement already satisfied: six in d:\\anaconda3\\lib\\site-packages (from lesscpy>=0.11.2->jupyterthemes)\n",
      "Requirement already satisfied: numpy>=1.7.1 in d:\\anaconda3\\lib\\site-packages (from matplotlib>=1.4.3->jupyterthemes)\n",
      "Requirement already satisfied: cycler>=0.10 in d:\\anaconda3\\lib\\site-packages (from matplotlib>=1.4.3->jupyterthemes)\n",
      "Requirement already satisfied: pyparsing!=2.0.4,!=2.1.2,!=2.1.6,>=2.0.1 in d:\\anaconda3\\lib\\site-packages (from matplotlib>=1.4.3->jupyterthemes)\n",
      "Requirement already satisfied: python-dateutil>=2.1 in d:\\anaconda3\\lib\\site-packages (from matplotlib>=1.4.3->jupyterthemes)\n",
      "Requirement already satisfied: pytz in d:\\anaconda3\\lib\\site-packages (from matplotlib>=1.4.3->jupyterthemes)\n",
      "Requirement already satisfied: kiwisolver>=1.0.1 in d:\\anaconda3\\lib\\site-packages (from matplotlib>=1.4.3->jupyterthemes)\n",
      "Requirement already satisfied: nbconvert in d:\\anaconda3\\lib\\site-packages (from notebook>=5.6.0->jupyterthemes)\n",
      "Requirement already satisfied: terminado>=0.8.1 in d:\\anaconda3\\lib\\site-packages (from notebook>=5.6.0->jupyterthemes)\n",
      "Requirement already satisfied: traitlets>=4.2.1 in d:\\anaconda3\\lib\\site-packages (from notebook>=5.6.0->jupyterthemes)\n",
      "Requirement already satisfied: ipykernel in d:\\anaconda3\\lib\\site-packages (from notebook>=5.6.0->jupyterthemes)\n",
      "Requirement already satisfied: Send2Trash in d:\\anaconda3\\lib\\site-packages (from notebook>=5.6.0->jupyterthemes)\n",
      "Requirement already satisfied: prometheus-client in d:\\anaconda3\\lib\\site-packages (from notebook>=5.6.0->jupyterthemes)\n",
      "Requirement already satisfied: tornado>=4 in d:\\anaconda3\\lib\\site-packages (from notebook>=5.6.0->jupyterthemes)\n",
      "Collecting pyzmq>=17 (from notebook>=5.6.0->jupyterthemes)\n",
      "  Using cached https://pypi.tuna.tsinghua.edu.cn/packages/5e/08/3ab4eca201262b8d561132250535878d828a36ec67ad7ef5ff13ffbec695/pyzmq-18.0.0-cp36-cp36m-win_amd64.whl\n",
      "Requirement already satisfied: nbformat in d:\\anaconda3\\lib\\site-packages (from notebook>=5.6.0->jupyterthemes)\n",
      "Requirement already satisfied: jinja2 in d:\\anaconda3\\lib\\site-packages (from notebook>=5.6.0->jupyterthemes)\n",
      "Collecting jupyter-client>=5.2.0 (from notebook>=5.6.0->jupyterthemes)\n",
      "  Using cached https://pypi.tuna.tsinghua.edu.cn/packages/3b/c3/3043fe9ffd140d03c9d091a056794ccdc427c56ec19b8eea74f9ea0a498f/jupyter_client-5.2.4-py2.py3-none-any.whl\n",
      "Requirement already satisfied: ipython-genutils in d:\\anaconda3\\lib\\site-packages (from notebook>=5.6.0->jupyterthemes)\n",
      "Requirement already satisfied: setuptools in d:\\anaconda3\\lib\\site-packages (from kiwisolver>=1.0.1->matplotlib>=1.4.3->jupyterthemes)\n",
      "Requirement already satisfied: mistune!=0.6 in d:\\anaconda3\\lib\\site-packages (from nbconvert->notebook>=5.6.0->jupyterthemes)\n",
      "Requirement already satisfied: pygments in d:\\anaconda3\\lib\\site-packages (from nbconvert->notebook>=5.6.0->jupyterthemes)\n",
      "Requirement already satisfied: entrypoints>=0.2.2 in d:\\anaconda3\\lib\\site-packages (from nbconvert->notebook>=5.6.0->jupyterthemes)\n",
      "Requirement already satisfied: bleach in d:\\anaconda3\\lib\\site-packages (from nbconvert->notebook>=5.6.0->jupyterthemes)\n",
      "Requirement already satisfied: pandocfilters>=1.4.1 in d:\\anaconda3\\lib\\site-packages (from nbconvert->notebook>=5.6.0->jupyterthemes)\n",
      "Requirement already satisfied: testpath in d:\\anaconda3\\lib\\site-packages (from nbconvert->notebook>=5.6.0->jupyterthemes)\n",
      "Requirement already satisfied: MarkupSafe>=0.23 in d:\\anaconda3\\lib\\site-packages (from jinja2->notebook>=5.6.0->jupyterthemes)\n",
      "Requirement already satisfied: html5lib!=0.9999,!=0.99999,<0.99999999,>=0.999 in d:\\anaconda3\\lib\\site-packages (from bleach->nbconvert->notebook>=5.6.0->jupyterthemes)\n",
      "Installing collected packages: pyzmq, jupyter-client, notebook, jupyterthemes\n"
     ]
    },
    {
     "name": "stderr",
     "output_type": "stream",
     "text": [
      "Exception:\n",
      "Traceback (most recent call last):\n",
      "  File \"D:\\Anaconda3\\lib\\site-packages\\pip\\basecommand.py\", line 215, in main\n",
      "    status = self.run(options, args)\n",
      "  File \"D:\\Anaconda3\\lib\\site-packages\\pip\\commands\\install.py\", line 342, in run\n",
      "    prefix=options.prefix_path,\n",
      "  File \"D:\\Anaconda3\\lib\\site-packages\\pip\\req\\req_set.py\", line 784, in install\n",
      "    **kwargs\n",
      "  File \"D:\\Anaconda3\\lib\\site-packages\\pip\\req\\req_install.py\", line 851, in install\n",
      "    self.move_wheel_files(self.source_dir, root=root, prefix=prefix)\n",
      "  File \"D:\\Anaconda3\\lib\\site-packages\\pip\\req\\req_install.py\", line 1064, in move_wheel_files\n",
      "    isolated=self.isolated,\n",
      "  File \"D:\\Anaconda3\\lib\\site-packages\\pip\\wheel.py\", line 345, in move_wheel_files\n",
      "    clobber(source, lib_dir, True)\n",
      "  File \"D:\\Anaconda3\\lib\\site-packages\\pip\\wheel.py\", line 323, in clobber\n",
      "    shutil.copyfile(srcfile, destfile)\n",
      "  File \"D:\\Anaconda3\\lib\\shutil.py\", line 121, in copyfile\n",
      "    with open(dst, 'wb') as fdst:\n",
      "PermissionError: [Errno 13] Permission denied: 'D:\\\\Anaconda3\\\\Lib\\\\site-packages\\\\zmq\\\\decorators.py'\n"
     ]
    }
   ],
   "source": [
    "!pip install jupyterthemes"
   ]
  },
  {
   "cell_type": "code",
   "execution_count": 3,
   "metadata": {},
   "outputs": [
    {
     "name": "stdout",
     "output_type": "stream",
     "text": [
      "Available Themes: \n",
      "   chesterish\n",
      "   grade3\n",
      "   gruvboxd\n",
      "   gruvboxl\n",
      "   monokai\n",
      "   oceans16\n",
      "   onedork\n",
      "   solarizedd\n",
      "   solarizedl\n"
     ]
    }
   ],
   "source": [
    "!jt -l"
   ]
  },
  {
   "cell_type": "markdown",
   "metadata": {
    "collapsed": true
   },
   "source": [
    "Theme lists."
   ]
  },
  {
   "cell_type": "code",
   "execution_count": 5,
   "metadata": {},
   "outputs": [],
   "source": [
    "!jt -t chesterish"
   ]
  },
  {
   "cell_type": "code",
   "execution_count": 1,
   "metadata": {},
   "outputs": [],
   "source": [
    "!jt -t oceans16 -T"
   ]
  },
  {
   "cell_type": "markdown",
   "metadata": {},
   "source": [
    "# Notebook extensions"
   ]
  },
  {
   "cell_type": "code",
   "execution_count": null,
   "metadata": {},
   "outputs": [],
   "source": [
    "!conda install -c conda-forge jupyter_nbextensions_configurator"
   ]
  },
  {
   "cell_type": "code",
   "execution_count": 3,
   "metadata": {
    "scrolled": true
   },
   "outputs": [
    {
     "name": "stdout",
     "output_type": "stream",
     "text": [
      "Collecting jupyter_contrib_nbextensions\n",
      "  Downloading https://pypi.tuna.tsinghua.edu.cn/packages/33/f0/6e2c00afda860f655fbf0f795f7310bdbf12122846344dfdc803fc7455d5/jupyter_contrib_nbextensions-0.5.1-py2.py3-none-any.whl (20.9MB)\n",
      "Requirement already satisfied: jupyter-contrib-core>=0.3.3 in d:\\anaconda3\\lib\\site-packages (from jupyter_contrib_nbextensions)\n",
      "Requirement already satisfied: traitlets>=4.1 in d:\\anaconda3\\lib\\site-packages (from jupyter_contrib_nbextensions)\n",
      "Requirement already satisfied: lxml in d:\\anaconda3\\lib\\site-packages (from jupyter_contrib_nbextensions)\n",
      "Requirement already satisfied: notebook>=4.0 in d:\\anaconda3\\lib\\site-packages (from jupyter_contrib_nbextensions)\n",
      "Collecting jupyter-highlight-selected-word>=0.1.1 (from jupyter_contrib_nbextensions)\n",
      "  Downloading https://pypi.tuna.tsinghua.edu.cn/packages/50/d7/19ab7cfd60bf268d2abbacc52d4295a40f52d74dfc0d938e4761ee5e598b/jupyter_highlight_selected_word-0.2.0-py2.py3-none-any.whl\n",
      "Requirement already satisfied: jupyter-core in d:\\anaconda3\\lib\\site-packages (from jupyter_contrib_nbextensions)\n",
      "Requirement already satisfied: jupyter-nbextensions-configurator>=0.4.0 in d:\\anaconda3\\lib\\site-packages (from jupyter_contrib_nbextensions)\n",
      "Requirement already satisfied: pyyaml in d:\\anaconda3\\lib\\site-packages (from jupyter_contrib_nbextensions)\n",
      "Requirement already satisfied: tornado in d:\\anaconda3\\lib\\site-packages (from jupyter_contrib_nbextensions)\n",
      "Requirement already satisfied: ipython-genutils in d:\\anaconda3\\lib\\site-packages (from jupyter_contrib_nbextensions)\n",
      "Collecting jupyter-latex-envs>=1.3.8 (from jupyter_contrib_nbextensions)\n",
      "  Downloading https://pypi.tuna.tsinghua.edu.cn/packages/0e/15/55805de080d5542f76920364635e96e64d3b37f678befdfe3b16aa154205/jupyter_latex_envs-1.4.6.tar.gz (861kB)\n",
      "Requirement already satisfied: nbconvert>=4.2 in d:\\anaconda3\\lib\\site-packages (from jupyter_contrib_nbextensions)\n",
      "Requirement already satisfied: setuptools in d:\\anaconda3\\lib\\site-packages (from jupyter-contrib-core>=0.3.3->jupyter_contrib_nbextensions)\n",
      "Requirement already satisfied: ipykernel in d:\\anaconda3\\lib\\site-packages (from notebook>=4.0->jupyter_contrib_nbextensions)\n",
      "Requirement already satisfied: jupyter-client>=5.2.0 in d:\\anaconda3\\lib\\site-packages (from notebook>=4.0->jupyter_contrib_nbextensions)\n",
      "Requirement already satisfied: Send2Trash in d:\\anaconda3\\lib\\site-packages (from notebook>=4.0->jupyter_contrib_nbextensions)\n",
      "Requirement already satisfied: terminado>=0.8.1 in d:\\anaconda3\\lib\\site-packages (from notebook>=4.0->jupyter_contrib_nbextensions)\n",
      "Requirement already satisfied: jinja2 in d:\\anaconda3\\lib\\site-packages (from notebook>=4.0->jupyter_contrib_nbextensions)\n",
      "Requirement already satisfied: pyzmq>=17 in d:\\anaconda3\\lib\\site-packages (from notebook>=4.0->jupyter_contrib_nbextensions)\n",
      "Requirement already satisfied: prometheus-client in d:\\anaconda3\\lib\\site-packages (from notebook>=4.0->jupyter_contrib_nbextensions)\n",
      "Requirement already satisfied: nbformat in d:\\anaconda3\\lib\\site-packages (from notebook>=4.0->jupyter_contrib_nbextensions)\n",
      "Requirement already satisfied: ipython in d:\\anaconda3\\lib\\site-packages (from jupyter-latex-envs>=1.3.8->jupyter_contrib_nbextensions)\n",
      "Requirement already satisfied: mistune!=0.6 in d:\\anaconda3\\lib\\site-packages (from nbconvert>=4.2->jupyter_contrib_nbextensions)\n",
      "Requirement already satisfied: pygments in d:\\anaconda3\\lib\\site-packages (from nbconvert>=4.2->jupyter_contrib_nbextensions)\n",
      "Requirement already satisfied: entrypoints>=0.2.2 in d:\\anaconda3\\lib\\site-packages (from nbconvert>=4.2->jupyter_contrib_nbextensions)\n",
      "Requirement already satisfied: bleach in d:\\anaconda3\\lib\\site-packages (from nbconvert>=4.2->jupyter_contrib_nbextensions)\n",
      "Requirement already satisfied: pandocfilters>=1.4.1 in d:\\anaconda3\\lib\\site-packages (from nbconvert>=4.2->jupyter_contrib_nbextensions)\n",
      "Requirement already satisfied: testpath in d:\\anaconda3\\lib\\site-packages (from nbconvert>=4.2->jupyter_contrib_nbextensions)\n",
      "Requirement already satisfied: python-dateutil>=2.1 in d:\\anaconda3\\lib\\site-packages (from jupyter-client>=5.2.0->notebook>=4.0->jupyter_contrib_nbextensions)\n",
      "Requirement already satisfied: MarkupSafe>=0.23 in d:\\anaconda3\\lib\\site-packages (from jinja2->notebook>=4.0->jupyter_contrib_nbextensions)\n",
      "Requirement already satisfied: six in d:\\anaconda3\\lib\\site-packages (from bleach->nbconvert>=4.2->jupyter_contrib_nbextensions)\n",
      "Requirement already satisfied: html5lib!=0.9999,!=0.99999,<0.99999999,>=0.999 in d:\\anaconda3\\lib\\site-packages (from bleach->nbconvert>=4.2->jupyter_contrib_nbextensions)\n",
      "Building wheels for collected packages: jupyter-latex-envs\n",
      "  Running setup.py bdist_wheel for jupyter-latex-envs: started\n",
      "  Running setup.py bdist_wheel for jupyter-latex-envs: finished with status 'done'\n",
      "  Stored in directory: C:\\Users\\dell\\AppData\\Local\\pip\\Cache\\wheels\\d2\\82\\e1\\52fa26bd89ade35fb45a5399ea0b9c8c765871d88be7e12336\n",
      "Successfully built jupyter-latex-envs\n",
      "Installing collected packages: jupyter-highlight-selected-word, jupyter-latex-envs, jupyter-contrib-nbextensions\n",
      "Successfully installed jupyter-contrib-nbextensions-0.5.1 jupyter-highlight-selected-word-0.2.0 jupyter-latex-envs-1.4.6\n"
     ]
    },
    {
     "name": "stderr",
     "output_type": "stream",
     "text": [
      "  Retrying (Retry(total=4, connect=None, read=None, redirect=None)) after connection broken by 'ReadTimeoutError(\"HTTPSConnectionPool(host='pypi.tuna.tsinghua.edu.cn', port=443): Read timed out. (read timeout=15)\",)': /simple/jupyter-highlight-selected-word/\n"
     ]
    }
   ],
   "source": [
    "!pip install jupyter_contrib_nbextensions"
   ]
  },
  {
   "cell_type": "code",
   "execution_count": null,
   "metadata": {},
   "outputs": [],
   "source": [
    "!jupyter contrib nbextension install --user"
   ]
  },
  {
   "cell_type": "markdown",
   "metadata": {},
   "source": [
    "# Inframe"
   ]
  },
  {
   "cell_type": "code",
   "execution_count": 2,
   "metadata": {},
   "outputs": [
    {
     "data": {
      "text/html": [
       "\n",
       "        <iframe\n",
       "            width=\"800\"\n",
       "            height=\"450\"\n",
       "            src=\"http://en.wikipedia.org/wiki/HTTPS\"\n",
       "            frameborder=\"0\"\n",
       "            allowfullscreen\n",
       "        ></iframe>\n",
       "        "
      ],
      "text/plain": [
       "<IPython.lib.display.IFrame at 0x2ca1afa3cc0>"
      ]
     },
     "execution_count": 2,
     "metadata": {},
     "output_type": "execute_result"
    }
   ],
   "source": [
    "from IPython.display import IFrame\n",
    "IFrame('http://en.wikipedia.org/wiki/HTTPS',width=800,height=450)"
   ]
  }
 ],
 "metadata": {
  "kernelspec": {
   "display_name": "Python 3",
   "language": "python",
   "name": "python3"
  },
  "language_info": {
   "codemirror_mode": {
    "name": "ipython",
    "version": 3
   },
   "file_extension": ".py",
   "mimetype": "text/x-python",
   "name": "python",
   "nbconvert_exporter": "python",
   "pygments_lexer": "ipython3",
   "version": "3.6.6"
  }
 },
 "nbformat": 4,
 "nbformat_minor": 2
}
