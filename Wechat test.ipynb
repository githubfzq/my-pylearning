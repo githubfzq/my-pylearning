{
 "cells": [
  {
   "cell_type": "code",
   "execution_count": 2,
   "metadata": {
    "scrolled": true
   },
   "outputs": [
    {
     "name": "stdout",
     "output_type": "stream",
     "text": [
      "Looking in indexes: https://pypi.tuna.tsinghua.edu.cn/simple\n",
      "Collecting itchat\n",
      "  Downloading https://pypi.tuna.tsinghua.edu.cn/packages/57/99/20dde4bee645453d1453ae3757b49f24a5fd179ce6e391cf2542cfeac61c/itchat-1.3.10-py2.py3-none-any.whl\n",
      "Collecting pypng (from itchat)\n",
      "  Downloading https://pypi.tuna.tsinghua.edu.cn/packages/0e/39/993a5feea8ed9c2eebd70c6e7c20cb4b0823588f5ab0afab4b0be95ebc23/pypng-0.0.19.tar.gz (293kB)\n",
      "Requirement already satisfied: requests in d:\\anaconda3\\lib\\site-packages (from itchat) (2.14.2)\n",
      "Collecting pyqrcode (from itchat)\n",
      "  Downloading https://pypi.tuna.tsinghua.edu.cn/packages/06/76/1aa11ac094c65005b5d8a042b8bd96d73d4e2c32d9a63a68b21278e4b7d2/PyQRCode-1.2.1.zip (41kB)\n",
      "Building wheels for collected packages: pypng, pyqrcode\n",
      "  Building wheel for pypng (setup.py): started\n",
      "  Building wheel for pypng (setup.py): finished with status 'done'\n",
      "  Stored in directory: C:\\Users\\dell\\AppData\\Local\\pip\\Cache\\wheels\\58\\0c\\f8\\2cef871ff153179d4a2a5459663ad9145b509452a0dcc23ef3\n",
      "  Building wheel for pyqrcode (setup.py): started\n",
      "  Building wheel for pyqrcode (setup.py): finished with status 'done'\n",
      "  Stored in directory: C:\\Users\\dell\\AppData\\Local\\pip\\Cache\\wheels\\23\\79\\a2\\477424038a2d5c82d06e0c1800f11595a1af372c2bf5b12ef4\n",
      "Successfully built pypng pyqrcode\n",
      "Installing collected packages: pypng, pyqrcode, itchat\n",
      "Successfully installed itchat-1.3.10 pypng-0.0.19 pyqrcode-1.2.1\n"
     ]
    }
   ],
   "source": [
    "!pip install itchat"
   ]
  },
  {
   "cell_type": "code",
   "execution_count": 3,
   "metadata": {},
   "outputs": [
    {
     "name": "stdout",
     "output_type": "stream",
     "text": [
      "█\r"
     ]
    }
   ],
   "source": [
    "import itchat"
   ]
  },
  {
   "cell_type": "code",
   "execution_count": 4,
   "metadata": {
    "scrolled": false
   },
   "outputs": [
    {
     "name": "stderr",
     "output_type": "stream",
     "text": [
      "Getting uuid of QR code.\n",
      "Downloading QR code.\n",
      "Please scan the QR code to log in.\n",
      "Please press confirm on your phone.\n",
      "Loading the contact, this may take a little while.\n",
      "Login successfully as 沧海一粟\n"
     ]
    }
   ],
   "source": [
    "itchat.auto_login()"
   ]
  },
  {
   "cell_type": "code",
   "execution_count": 5,
   "metadata": {
    "scrolled": false
   },
   "outputs": [],
   "source": [
    "friendList=itchat.get_friends()"
   ]
  },
  {
   "cell_type": "code",
   "execution_count": 9,
   "metadata": {},
   "outputs": [],
   "source": [
    "me=friendList[0]"
   ]
  },
  {
   "cell_type": "code",
   "execution_count": 12,
   "metadata": {},
   "outputs": [
    {
     "data": {
      "text/plain": [
       "''"
      ]
     },
     "execution_count": 12,
     "metadata": {},
     "output_type": "execute_result"
    }
   ],
   "source": [
    "me['RemarkName']"
   ]
  },
  {
   "cell_type": "code",
   "execution_count": 16,
   "metadata": {},
   "outputs": [
    {
     "data": {
      "text/plain": [
       "<User: {'MemberList': <ContactList: []>, 'Uin': 0, 'UserName': '@3a04e9e5641521ecb19552ad5fdbe77e59d5948f16afb3c6bacfb31323eae262', 'NickName': '小迪', 'HeadImgUrl': '/cgi-bin/mmwebwx-bin/webwxgeticon?seq=652621891&username=@3a04e9e5641521ecb19552ad5fdbe77e59d5948f16afb3c6bacfb31323eae262&skey=@crypt_425b3a5d_244d812753a20fcf57e390b333413fa2', 'ContactFlag': 3, 'MemberCount': 0, 'RemarkName': '刘小迪', 'HideInputBarFlag': 0, 'Sex': 1, 'Signature': '楠木', 'VerifyFlag': 0, 'OwnerUin': 0, 'PYInitial': 'XD', 'PYQuanPin': 'xiaodi', 'RemarkPYInitial': 'LXD', 'RemarkPYQuanPin': 'liuxiaodi', 'StarFriend': 0, 'AppAccountFlag': 0, 'Statues': 0, 'AttrStatus': 16980349, 'Province': '上海', 'City': '徐汇', 'Alias': '', 'SnsFlag': 145, 'UniFriend': 0, 'DisplayName': '', 'ChatRoomId': 0, 'KeyWord': '', 'EncryChatRoomId': '', 'IsOwner': 0}>"
      ]
     },
     "execution_count": 16,
     "metadata": {},
     "output_type": "execute_result"
    }
   ],
   "source": [
    "friendList[28]"
   ]
  },
  {
   "cell_type": "code",
   "execution_count": 17,
   "metadata": {},
   "outputs": [
    {
     "data": {
      "text/plain": [
       "<ItchatReturnValue: {'BaseResponse': {'Ret': 0, 'ErrMsg': '请求成功', 'RawMsg': '请求成功'}, 'MsgID': '7982861135077378007', 'LocalID': '15505789669413'}>"
      ]
     },
     "execution_count": 17,
     "metadata": {},
     "output_type": "execute_result"
    }
   ],
   "source": [
    "itchat.send('Hello world',toUserName='filehelper')"
   ]
  },
  {
   "cell_type": "code",
   "execution_count": null,
   "metadata": {
    "collapsed": true
   },
   "outputs": [],
   "source": []
  }
 ],
 "metadata": {
  "kernelspec": {
   "display_name": "Python 3",
   "language": "python",
   "name": "python3"
  },
  "language_info": {
   "codemirror_mode": {
    "name": "ipython",
    "version": 3
   },
   "file_extension": ".py",
   "mimetype": "text/x-python",
   "name": "python",
   "nbconvert_exporter": "python",
   "pygments_lexer": "ipython3",
   "version": "3.6.2"
  }
 },
 "nbformat": 4,
 "nbformat_minor": 2
}
