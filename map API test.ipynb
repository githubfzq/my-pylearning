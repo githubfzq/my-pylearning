{
 "cells": [
  {
   "cell_type": "code",
   "execution_count": 1,
   "metadata": {},
   "outputs": [],
   "source": [
    "import requests"
   ]
  },
  {
   "cell_type": "code",
   "execution_count": 3,
   "metadata": {},
   "outputs": [],
   "source": [
    "parameter={'key':'c1e62eecee6ee74da5a4c6dbcb69dfae',\n",
    "          'address':'上海市徐汇区复旦大学枫林校区'}\n",
    "base='https://restapi.amap.com/v3/geocode/geo'"
   ]
  },
  {
   "cell_type": "code",
   "execution_count": 4,
   "metadata": {},
   "outputs": [],
   "source": [
    "response=requests.get(base,parameter)"
   ]
  },
  {
   "cell_type": "code",
   "execution_count": 5,
   "metadata": {},
   "outputs": [
    {
     "data": {
      "text/plain": [
       "200"
      ]
     },
     "execution_count": 5,
     "metadata": {},
     "output_type": "execute_result"
    }
   ],
   "source": [
    "response.status_code"
   ]
  },
  {
   "cell_type": "code",
   "execution_count": 6,
   "metadata": {},
   "outputs": [
    {
     "data": {
      "text/plain": [
       "{'count': '1',\n",
       " 'geocodes': [{'adcode': '310104',\n",
       "   'building': {'name': [], 'type': []},\n",
       "   'city': '上海市',\n",
       "   'citycode': '021',\n",
       "   'country': '中国',\n",
       "   'district': '徐汇区',\n",
       "   'formatted_address': '上海市徐汇区复旦枫林校区',\n",
       "   'level': '兴趣点',\n",
       "   'location': '121.451438,31.196721',\n",
       "   'neighborhood': {'name': [], 'type': []},\n",
       "   'number': [],\n",
       "   'province': '上海市',\n",
       "   'street': [],\n",
       "   'township': []}],\n",
       " 'info': 'OK',\n",
       " 'infocode': '10000',\n",
       " 'status': '1'}"
      ]
     },
     "execution_count": 6,
     "metadata": {},
     "output_type": "execute_result"
    }
   ],
   "source": [
    "answer=response.json()\n",
    "answer"
   ]
  },
  {
   "cell_type": "code",
   "execution_count": null,
   "metadata": {},
   "outputs": [],
   "source": []
  }
 ],
 "metadata": {
  "kernelspec": {
   "display_name": "Python 3",
   "language": "python",
   "name": "python3"
  },
  "language_info": {
   "codemirror_mode": {
    "name": "ipython",
    "version": 3
   },
   "file_extension": ".py",
   "mimetype": "text/x-python",
   "name": "python",
   "nbconvert_exporter": "python",
   "pygments_lexer": "ipython3",
   "version": "3.6.6"
  }
 },
 "nbformat": 4,
 "nbformat_minor": 2
}
